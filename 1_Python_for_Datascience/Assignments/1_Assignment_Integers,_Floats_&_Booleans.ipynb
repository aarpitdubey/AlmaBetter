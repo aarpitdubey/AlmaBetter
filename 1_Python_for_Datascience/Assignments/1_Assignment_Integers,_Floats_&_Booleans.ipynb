{
  "nbformat": 4,
  "nbformat_minor": 0,
  "metadata": {
    "kernelspec": {
      "display_name": "Python 3",
      "language": "python",
      "name": "python3"
    },
    "language_info": {
      "codemirror_mode": {
        "name": "ipython",
        "version": 3
      },
      "file_extension": ".py",
      "mimetype": "text/x-python",
      "name": "python",
      "nbconvert_exporter": "python",
      "pygments_lexer": "ipython3",
      "version": "3.7.4"
    },
    "colab": {
      "provenance": []
    }
  },
  "cells": [
    {
      "cell_type": "markdown",
      "metadata": {
        "id": "JRdjdmztDelX"
      },
      "source": [
        "## <u>While doing this assignment only use those concepts which have been taught till now</u>"
      ]
    },
    {
      "cell_type": "markdown",
      "metadata": {
        "id": "8ECk3jeWDelY"
      },
      "source": [
        "## <u>Problem 1</u>\n",
        "\n",
        "In a cricket tournament, based on the outcome of a particular match a team gets following points:\n",
        "* <code>wins</code> gets <code>3</code> points\n",
        "* <code>draws</code> gets <code>1</code> points\n",
        "* <code>losses</code> gets <code>0</code> points\n",
        "\n",
        "Team Aravali plays <code>8</code> matches in this tournament. It wins <code>4</code> matches, loses <code>3</code> matches and draws <code>1</code>. What is the total number of points gained by the Team Aravali?"
      ]
    },
    {
      "cell_type": "code",
      "metadata": {
        "id": "m68YV3OhDelZ"
      },
      "source": [
        "# The outcome variables are defined below\n",
        "wins = 4\n",
        "losses = 3\n",
        "draws = 1\n",
        "\n",
        "#Defining scores points as mentioned in variables\n",
        "winning_score = 3\n",
        "draw_score    = 1\n",
        "loss_score    = 0"
      ],
      "execution_count": 1,
      "outputs": []
    },
    {
      "cell_type": "code",
      "metadata": {
        "id": "2cnTsWvODelc"
      },
      "source": [
        "# Calculate the total points gained by Team Aravali\n",
        "aravali_points = (wins*winning_score)+(draws*draw_score)+(losses*loss_score)"
      ],
      "execution_count": 2,
      "outputs": []
    },
    {
      "cell_type": "code",
      "metadata": {
        "id": "4ccas7cPDelf",
        "colab": {
          "base_uri": "https://localhost:8080/"
        },
        "outputId": "3fc06700-ed6e-428d-ddd5-4a4d32283b44"
      },
      "source": [
        "# Print the variable aravali_points\n",
        "print(aravali_points)\n"
      ],
      "execution_count": 3,
      "outputs": [
        {
          "output_type": "stream",
          "name": "stdout",
          "text": [
            "13\n"
          ]
        }
      ]
    },
    {
      "cell_type": "markdown",
      "metadata": {
        "id": "-ioInfYKDelh"
      },
      "source": [
        "## <u>Problem 2 </u>\n",
        "\n",
        "* Root of a function $f(x)$ is defined as the value $x$ where $f(x)=0$ \n",
        "* Consider a quadratic function $ f(x) = x^2 + 3x - 4$\n",
        "\n",
        "### Find the value of the function $f(x)$ at points   $x=2,x=-1, x=1$."
      ]
    },
    {
      "cell_type": "code",
      "metadata": {
        "id": "4_HZwes5Delh"
      },
      "source": [
        "# Calculate the value of the function f(x) at x = 2\n",
        "def f(x):\n",
        "  return (x**2 + 3*x - 4)\n",
        "\n",
        "func_evaluated_at_2 = f(2) # x = 2"
      ],
      "execution_count": 4,
      "outputs": []
    },
    {
      "cell_type": "code",
      "metadata": {
        "id": "zBkLIXk2Dell",
        "outputId": "64915a2a-e629-422f-fb97-9c243ac90021",
        "colab": {
          "base_uri": "https://localhost:8080/"
        }
      },
      "source": [
        "# Print the value below\n",
        "print(func_evaluated_at_2)"
      ],
      "execution_count": 5,
      "outputs": [
        {
          "output_type": "stream",
          "name": "stdout",
          "text": [
            "6\n"
          ]
        }
      ]
    },
    {
      "cell_type": "code",
      "metadata": {
        "id": "uD4MAyKIDelo"
      },
      "source": [
        "# Calculate the value of the function f(x) at x = -1\n",
        "func_evaluated_at_minus1 = f(-1) # x = -1"
      ],
      "execution_count": 6,
      "outputs": []
    },
    {
      "cell_type": "code",
      "metadata": {
        "id": "Jx9WVMQ2Delq",
        "outputId": "cc417fa1-0f0e-40c0-9ff1-5f52646b7e15",
        "colab": {
          "base_uri": "https://localhost:8080/"
        }
      },
      "source": [
        "# Print the value below\n",
        "print(func_evaluated_at_minus1)"
      ],
      "execution_count": 7,
      "outputs": [
        {
          "output_type": "stream",
          "name": "stdout",
          "text": [
            "-6\n"
          ]
        }
      ]
    },
    {
      "cell_type": "code",
      "metadata": {
        "id": "h8PgF85VDelu"
      },
      "source": [
        "# Calculate the value of the function f(x) at x = 1\n",
        "func_evaluated_at_1 = f(1) # x = 1"
      ],
      "execution_count": 8,
      "outputs": []
    },
    {
      "cell_type": "code",
      "metadata": {
        "id": "BdrFgug6Delw",
        "outputId": "f01fb612-3b84-4435-da0f-ce813ea89da0",
        "colab": {
          "base_uri": "https://localhost:8080/"
        }
      },
      "source": [
        "# Print the type of the variable below\n",
        "print(func_evaluated_at_1)"
      ],
      "execution_count": 9,
      "outputs": [
        {
          "output_type": "stream",
          "name": "stdout",
          "text": [
            "0\n"
          ]
        }
      ]
    },
    {
      "cell_type": "markdown",
      "metadata": {
        "id": "EvldlcwqDelz"
      },
      "source": [
        "### Return the boolean for each value of $x$ to find out whether that value is a root of $f(x)$"
      ]
    },
    {
      "cell_type": "code",
      "metadata": {
        "id": "-tUSAgzgDel0",
        "outputId": "6504ab22-5666-4a85-8af3-188c5f69dc0c",
        "colab": {
          "base_uri": "https://localhost:8080/"
        }
      },
      "source": [
        "# Check whether 2 is a root of f(x)\n",
        "func_evaluated_at_2 == 0\n",
        "\n",
        "def rootOfFx(valueOfX):\n",
        "  if valueOfX == 0:\n",
        "    return True \n",
        "  return False\n",
        "\n",
        "check2isRootOrNot = rootOfFx(func_evaluated_at_2) \n",
        "print(check2isRootOrNot)\n",
        "\n",
        "\n",
        "  \n"
      ],
      "execution_count": 10,
      "outputs": [
        {
          "output_type": "stream",
          "name": "stdout",
          "text": [
            "False\n"
          ]
        }
      ]
    },
    {
      "cell_type": "code",
      "source": [
        "func_evaluated_at_2 = 0 #Assignment operator\n",
        "check2isRootOrNot = rootOfFx(func_evaluated_at_2)\n",
        "print(check2isRootOrNot)"
      ],
      "metadata": {
        "id": "_jwlQPeKal4o",
        "outputId": "088dbf97-00d0-4dbe-d460-38e2deb90a3a",
        "colab": {
          "base_uri": "https://localhost:8080/"
        }
      },
      "execution_count": 11,
      "outputs": [
        {
          "output_type": "stream",
          "name": "stdout",
          "text": [
            "True\n"
          ]
        }
      ]
    },
    {
      "cell_type": "code",
      "metadata": {
        "id": "gsNS4Ki4Del2",
        "outputId": "d82552cd-9b87-4d7f-f0a6-2407f83a9fa3",
        "colab": {
          "base_uri": "https://localhost:8080/"
        }
      },
      "source": [
        "# Check whether -1 is a root of f(x)\n",
        "checkMinus1isRootOrNot = rootOfFx(func_evaluated_at_minus1)\n",
        "print(checkMinus1isRootOrNot)"
      ],
      "execution_count": 12,
      "outputs": [
        {
          "output_type": "stream",
          "name": "stdout",
          "text": [
            "False\n"
          ]
        }
      ]
    },
    {
      "cell_type": "code",
      "metadata": {
        "id": "yExDY-ZXDel4",
        "outputId": "770659d2-d2b7-4c59-a055-b47b940198a9",
        "colab": {
          "base_uri": "https://localhost:8080/"
        }
      },
      "source": [
        "# Check whether 1 is a root of f(x)\n",
        "check1isRootOrNot = rootOfFx(func_evaluated_at_1)\n",
        "print(check1isRootOrNot)"
      ],
      "execution_count": 13,
      "outputs": [
        {
          "output_type": "stream",
          "name": "stdout",
          "text": [
            "True\n"
          ]
        }
      ]
    },
    {
      "cell_type": "markdown",
      "metadata": {
        "id": "tNAI2AHRDel6"
      },
      "source": [
        "## <u> Problem 3 </u>\n",
        "\n",
        "A bag contains <code>45</code> apples, <code>65</code> oranges and <code>30</code> bananas. Find the percentage of each type of food items in the bag."
      ]
    },
    {
      "cell_type": "code",
      "metadata": {
        "id": "XJ9Rq4P3Del7",
        "outputId": "0bb023a7-cbdf-40cf-9c50-3e3fa0c15410",
        "colab": {
          "base_uri": "https://localhost:8080/"
        }
      },
      "source": [
        "# Calculate the percentage of apples and print the variable\n",
        "\n",
        "apples  = 45\n",
        "oranges = 65\n",
        "bananas = 30\n",
        "\n",
        "totalFoodItems = apples + oranges + bananas\n",
        "\n",
        "perc_of_apples = (apples / totalFoodItems) * 100\n",
        "\n",
        "print(\"Percentage of apples, are {} %\".format(perc_of_apples))"
      ],
      "execution_count": 14,
      "outputs": [
        {
          "output_type": "stream",
          "name": "stdout",
          "text": [
            "Percentage of apples, are 32.142857142857146 %\n"
          ]
        }
      ]
    },
    {
      "cell_type": "code",
      "metadata": {
        "id": "S6lJZtaXDel9",
        "outputId": "cae60487-f2dc-493e-fdcc-e5a61475d92a",
        "colab": {
          "base_uri": "https://localhost:8080/"
        }
      },
      "source": [
        "# Calculate the percentage of oranges and print the variable\n",
        "\n",
        "perc_of_oranges = (oranges / totalFoodItems) * 100\n",
        "\n",
        "print(\"Percentage of oranges, are {} %\".format(perc_of_oranges))"
      ],
      "execution_count": 15,
      "outputs": [
        {
          "output_type": "stream",
          "name": "stdout",
          "text": [
            "Percentage of oranges, are 46.42857142857143 %\n"
          ]
        }
      ]
    },
    {
      "cell_type": "code",
      "metadata": {
        "id": "mHzMnSZrDemB",
        "outputId": "3b0206f3-bad7-46b3-fe58-546f5e3f1fce",
        "colab": {
          "base_uri": "https://localhost:8080/"
        }
      },
      "source": [
        "# Calculate the percentage of bananas and print the variable\n",
        "\n",
        "perc_of_bananas = (bananas / totalFoodItems) * 100\n",
        "\n",
        "print(\"Percentage of bananas, are {} %\".format(perc_of_bananas))"
      ],
      "execution_count": 16,
      "outputs": [
        {
          "output_type": "stream",
          "name": "stdout",
          "text": [
            "Percentage of bananas, are 21.428571428571427 %\n"
          ]
        }
      ]
    },
    {
      "cell_type": "markdown",
      "metadata": {
        "id": "F44LczfzDemD"
      },
      "source": [
        "## <u>Problem 4</u>\n",
        "\n",
        "You were playing a fun guessing game during your school break. There were a total of 100 participants excluding you. Out of these 100 people, 30 were Maths Majors, 45 were Economics Majors and 25 were Physics Majors.\n",
        "\n",
        "The game was divided into three rounds.\n",
        "\n",
        "* In the first round, you had to guess the number of Maths Majors and you <b>correctly</b> guessed 20 of them.\n",
        "* In the second round, you had to guess the number of Economics Majors and you <b>correctly</b> guessed 30 of them.\n",
        "* In the final third round, you had to guess the number of Physics Majors and you <b>correctly</b> guessed 20 of them.\n",
        "\n",
        "### Accuracy is defined as the number of correct guesses upon total number of people in the group (expressed in percentage)"
      ]
    },
    {
      "cell_type": "markdown",
      "metadata": {
        "id": "lkGEV_zpDemE"
      },
      "source": [
        "* ### Define your variables"
      ]
    },
    {
      "cell_type": "code",
      "metadata": {
        "id": "OfXY9LcVDemF"
      },
      "source": [
        "# Store the number of Maths majors\n",
        "\n",
        "maths_major = 30\n",
        "\n",
        "# Store the number of Economics majors\n",
        "\n",
        "economics_major = 45\n",
        "\n",
        "# Store the number of Physics majors\n",
        "\n",
        "physics_major = 25\n",
        "\n",
        "# Store the number of your correct guesses of Maths majors\n",
        "\n",
        "correct_guess_mm = 20\n",
        "\n",
        "# Store the number of your correct guesses of Economics majors\n",
        "\n",
        "correct_guess_em = 30\n",
        "\n",
        "# Store the number of your correct guesses of Physics majors\n",
        "\n",
        "correct_guess_pm = 20\n"
      ],
      "execution_count": 17,
      "outputs": []
    },
    {
      "cell_type": "markdown",
      "metadata": {
        "id": "Eg_Or6GmDemI"
      },
      "source": [
        "* ### Calculate your accuracy in each of the three rounds"
      ]
    },
    {
      "cell_type": "code",
      "metadata": {
        "id": "QUbDKOR3DemJ",
        "outputId": "263773a8-ac6a-40a1-af03-f530b8d71f26",
        "colab": {
          "base_uri": "https://localhost:8080/"
        }
      },
      "source": [
        "# Print the Maths accuracy\n",
        "accuracy_mm  = (correct_guess_mm / maths_major) * 100\n",
        "print(accuracy_mm)"
      ],
      "execution_count": 18,
      "outputs": [
        {
          "output_type": "stream",
          "name": "stdout",
          "text": [
            "66.66666666666666\n"
          ]
        }
      ]
    },
    {
      "cell_type": "code",
      "metadata": {
        "id": "PfX4DowhDemM",
        "outputId": "3d96bf1a-faea-4a70-f126-b2f98d4dc433",
        "colab": {
          "base_uri": "https://localhost:8080/"
        }
      },
      "source": [
        "# Print the Economics accuracy\n",
        "\n",
        "accuracy_em = (correct_guess_em / economics_major) * 100\n",
        "print(accuracy_em)"
      ],
      "execution_count": 19,
      "outputs": [
        {
          "output_type": "stream",
          "name": "stdout",
          "text": [
            "66.66666666666666\n"
          ]
        }
      ]
    },
    {
      "cell_type": "code",
      "metadata": {
        "id": "ZV-hzGKCDemP",
        "outputId": "9c74c60f-85ee-41f2-8b29-31e2ad055cf9",
        "colab": {
          "base_uri": "https://localhost:8080/"
        }
      },
      "source": [
        "# Print the Physics accuracy\n",
        "\n",
        "accuracy_pm = (correct_guess_pm / physics_major) * 100\n",
        "print(accuracy_pm)\n"
      ],
      "execution_count": 20,
      "outputs": [
        {
          "output_type": "stream",
          "name": "stdout",
          "text": [
            "80.0\n"
          ]
        }
      ]
    },
    {
      "cell_type": "markdown",
      "metadata": {
        "id": "FvKZonnwDemS"
      },
      "source": [
        "* ### Calculate your overall accuracy in the entire game"
      ]
    },
    {
      "cell_type": "code",
      "metadata": {
        "id": "eP3JkusLDemT",
        "outputId": "7b110791-06d6-4f88-8dd4-368ecb4abc25",
        "colab": {
          "base_uri": "https://localhost:8080/"
        }
      },
      "source": [
        "# Print the overall accuracy\n",
        "\n",
        "total_accuracy = (correct_guess_mm + correct_guess_em + correct_guess_pm) / 100\n",
        "print(total_accuracy)"
      ],
      "execution_count": 21,
      "outputs": [
        {
          "output_type": "stream",
          "name": "stdout",
          "text": [
            "0.7\n"
          ]
        }
      ]
    }
  ]
}